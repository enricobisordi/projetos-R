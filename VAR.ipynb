{
 "cells": [
  {
   "cell_type": "code",
   "execution_count": 3,
   "id": "4ed709b2-83ea-4767-b745-24f44e45c579",
   "metadata": {},
   "outputs": [
    {
     "name": "stdout",
     "output_type": "stream",
     "text": [
      "Collecting ipeadatapyNote: you may need to restart the kernel to use updated packages.\n",
      "\n",
      "  Downloading ipeadatapy-0.1.9-py3-none-any.whl.metadata (297 bytes)\n",
      "Requirement already satisfied: pandas in c:\\users\\enrico.bisordi\\appdata\\local\\programs\\python\\python312\\lib\\site-packages (from ipeadatapy) (2.2.2)\n",
      "Requirement already satisfied: requests in c:\\users\\enrico.bisordi\\appdata\\local\\programs\\python\\python312\\lib\\site-packages (from ipeadatapy) (2.32.3)\n",
      "Requirement already satisfied: numpy>=1.26.0 in c:\\users\\enrico.bisordi\\appdata\\local\\programs\\python\\python312\\lib\\site-packages (from pandas->ipeadatapy) (2.0.1)\n",
      "Requirement already satisfied: python-dateutil>=2.8.2 in c:\\users\\enrico.bisordi\\appdata\\local\\programs\\python\\python312\\lib\\site-packages (from pandas->ipeadatapy) (2.9.0.post0)\n",
      "Requirement already satisfied: pytz>=2020.1 in c:\\users\\enrico.bisordi\\appdata\\local\\programs\\python\\python312\\lib\\site-packages (from pandas->ipeadatapy) (2024.1)\n",
      "Requirement already satisfied: tzdata>=2022.7 in c:\\users\\enrico.bisordi\\appdata\\local\\programs\\python\\python312\\lib\\site-packages (from pandas->ipeadatapy) (2024.1)\n",
      "Requirement already satisfied: charset-normalizer<4,>=2 in c:\\users\\enrico.bisordi\\appdata\\local\\programs\\python\\python312\\lib\\site-packages (from requests->ipeadatapy) (3.3.2)\n",
      "Requirement already satisfied: idna<4,>=2.5 in c:\\users\\enrico.bisordi\\appdata\\local\\programs\\python\\python312\\lib\\site-packages (from requests->ipeadatapy) (3.7)\n",
      "Requirement already satisfied: urllib3<3,>=1.21.1 in c:\\users\\enrico.bisordi\\appdata\\local\\programs\\python\\python312\\lib\\site-packages (from requests->ipeadatapy) (2.2.2)\n",
      "Requirement already satisfied: certifi>=2017.4.17 in c:\\users\\enrico.bisordi\\appdata\\local\\programs\\python\\python312\\lib\\site-packages (from requests->ipeadatapy) (2024.7.4)\n",
      "Requirement already satisfied: six>=1.5 in c:\\users\\enrico.bisordi\\appdata\\local\\programs\\python\\python312\\lib\\site-packages (from python-dateutil>=2.8.2->pandas->ipeadatapy) (1.16.0)\n",
      "Downloading ipeadatapy-0.1.9-py3-none-any.whl (10 kB)\n",
      "Installing collected packages: ipeadatapy\n",
      "Successfully installed ipeadatapy-0.1.9\n"
     ]
    },
    {
     "name": "stderr",
     "output_type": "stream",
     "text": [
      "\n",
      "[notice] A new release of pip is available: 24.1.2 -> 24.2\n",
      "[notice] To update, run: python.exe -m pip install --upgrade pip\n"
     ]
    }
   ],
   "source": [
    "pip install ipeadatapy"
   ]
  },
  {
   "cell_type": "code",
   "execution_count": 8,
   "id": "b48a276e-34da-4023-91bb-47bce262540b",
   "metadata": {},
   "outputs": [],
   "source": [
    "from statsmodels.tools.sm_exceptions import ConvergenceWarning, ValueWarning\n",
    "from statsmodels.tsa.statespace.sarimax import SARIMAX\n",
    "from statsmodels.tsa.stattools import adfuller\n",
    "from statsmodels.tsa.seasonal import seasonal_decompose\n",
    "import warnings\n",
    "from bcb import sgs\n",
    "import pandas as pd\n",
    "import time\n",
    "import matplotlib.pyplot as plt\n",
    "import numpy as np\n",
    "import ipeadatapy as ip\n",
    "\n",
    "warnings.simplefilter(\"ignore\")"
   ]
  },
  {
   "cell_type": "code",
   "execution_count": 9,
   "id": "255d7a29-bf67-40af-9aea-ae01eac77d95",
   "metadata": {},
   "outputs": [],
   "source": [
    "ipca = sgs.get(('IPCA', 433))\n",
    "cambio = sgs.get(('Câmbio', 1))\n",
    "pib = sgs.get(('PIB', 4380))\n",
    "igpm = sgs.get(('IGPM', 189))\n",
    "igpdi = sgs.get(('IGPDI', 190))\n",
    "M1 = sgs.get(('M1', 27815))\n",
    "empregos = sgs.get(('empregos', 28763))\n",
    "bp = sgs.get(('bp', 22707))\n",
    "divida = sgs.get(('divida', 4003))\n",
    "ipca_esperado = pd.read_csv(\"C:\\\\Users\\\\Enrico.bisordi\\\\OneDrive - Rio Bravo\\\\Desktop\\\\VAR\\\\ipca_exp.csv\")\n",
    "petroleo = ip.timeseries('EIA366_PBRENT366')\n",
    "IBOV = ip.timeseries('ANBIMA12_IBVSP12')\n",
    "IR = ip.timeseries('SRF12_IR12')"
   ]
  },
  {
   "cell_type": "code",
   "execution_count": 19,
   "id": "f75ea0f9-19ad-40f1-8e02-8f65afb312ca",
   "metadata": {},
   "outputs": [
    {
     "data": {
      "text/html": [
       "<div>\n",
       "<style scoped>\n",
       "    .dataframe tbody tr th:only-of-type {\n",
       "        vertical-align: middle;\n",
       "    }\n",
       "\n",
       "    .dataframe tbody tr th {\n",
       "        vertical-align: top;\n",
       "    }\n",
       "\n",
       "    .dataframe thead th {\n",
       "        text-align: right;\n",
       "    }\n",
       "</style>\n",
       "<table border=\"1\" class=\"dataframe\">\n",
       "  <thead>\n",
       "    <tr style=\"text-align: right;\">\n",
       "      <th></th>\n",
       "      <th>date</th>\n",
       "      <th>median</th>\n",
       "    </tr>\n",
       "  </thead>\n",
       "  <tbody>\n",
       "    <tr>\n",
       "      <th>0</th>\n",
       "      <td>2000-01-01</td>\n",
       "      <td>0.580</td>\n",
       "    </tr>\n",
       "    <tr>\n",
       "      <th>1</th>\n",
       "      <td>2000-02-01</td>\n",
       "      <td>0.500</td>\n",
       "    </tr>\n",
       "    <tr>\n",
       "      <th>2</th>\n",
       "      <td>2000-03-01</td>\n",
       "      <td>0.700</td>\n",
       "    </tr>\n",
       "    <tr>\n",
       "      <th>3</th>\n",
       "      <td>2000-04-01</td>\n",
       "      <td>0.700</td>\n",
       "    </tr>\n",
       "    <tr>\n",
       "      <th>4</th>\n",
       "      <td>2000-05-01</td>\n",
       "      <td>0.510</td>\n",
       "    </tr>\n",
       "    <tr>\n",
       "      <th>...</th>\n",
       "      <td>...</td>\n",
       "      <td>...</td>\n",
       "    </tr>\n",
       "    <tr>\n",
       "      <th>290</th>\n",
       "      <td>2024-03-01</td>\n",
       "      <td>0.500</td>\n",
       "    </tr>\n",
       "    <tr>\n",
       "      <th>291</th>\n",
       "      <td>2024-04-01</td>\n",
       "      <td>0.300</td>\n",
       "    </tr>\n",
       "    <tr>\n",
       "      <th>292</th>\n",
       "      <td>2024-05-01</td>\n",
       "      <td>0.300</td>\n",
       "    </tr>\n",
       "    <tr>\n",
       "      <th>293</th>\n",
       "      <td>2024-06-01</td>\n",
       "      <td>0.240</td>\n",
       "    </tr>\n",
       "    <tr>\n",
       "      <th>294</th>\n",
       "      <td>2024-07-01</td>\n",
       "      <td>0.185</td>\n",
       "    </tr>\n",
       "  </tbody>\n",
       "</table>\n",
       "<p>295 rows × 2 columns</p>\n",
       "</div>"
      ],
      "text/plain": [
       "           date  median\n",
       "0    2000-01-01   0.580\n",
       "1    2000-02-01   0.500\n",
       "2    2000-03-01   0.700\n",
       "3    2000-04-01   0.700\n",
       "4    2000-05-01   0.510\n",
       "..          ...     ...\n",
       "290  2024-03-01   0.500\n",
       "291  2024-04-01   0.300\n",
       "292  2024-05-01   0.300\n",
       "293  2024-06-01   0.240\n",
       "294  2024-07-01   0.185\n",
       "\n",
       "[295 rows x 2 columns]"
      ]
     },
     "execution_count": 19,
     "metadata": {},
     "output_type": "execute_result"
    }
   ],
   "source": [
    "ipca_esperado"
   ]
  },
  {
   "cell_type": "code",
   "execution_count": 33,
   "id": "dec6d309-0a67-40c4-ac67-7add95cf7465",
   "metadata": {},
   "outputs": [],
   "source": [
    "list_sgs = ['ipca','cambio', 'pib', 'ipgm','igpdi','M1', 'empregos', 'bp', 'divida']\n",
    "list2 = ['petroleo', 'IBOV', 'IR']"
   ]
  },
  {
   "cell_type": "code",
   "execution_count": 32,
   "id": "21df65aa-bc9c-468d-9bc7-788531b6c7a1",
   "metadata": {},
   "outputs": [
    {
     "ename": "KeyError",
     "evalue": "\"['CODE', 'RAW DATE', 'DAY', 'MONTH', 'YEAR'] not found in axis\"",
     "output_type": "error",
     "traceback": [
      "\u001b[1;31m---------------------------------------------------------------------------\u001b[0m",
      "\u001b[1;31mKeyError\u001b[0m                                  Traceback (most recent call last)",
      "Cell \u001b[1;32mIn[32], line 5\u001b[0m\n\u001b[0;32m      2\u001b[0m list2 \u001b[38;5;241m=\u001b[39m [\u001b[38;5;124m'\u001b[39m\u001b[38;5;124mpetroleo\u001b[39m\u001b[38;5;124m'\u001b[39m, \u001b[38;5;124m'\u001b[39m\u001b[38;5;124mIBOV\u001b[39m\u001b[38;5;124m'\u001b[39m, \u001b[38;5;124m'\u001b[39m\u001b[38;5;124mIR\u001b[39m\u001b[38;5;124m'\u001b[39m]\n\u001b[0;32m      3\u001b[0m colunas \u001b[38;5;241m=\u001b[39m [\u001b[38;5;124m'\u001b[39m\u001b[38;5;124mCODE\u001b[39m\u001b[38;5;124m'\u001b[39m, \u001b[38;5;124m'\u001b[39m\u001b[38;5;124mRAW DATE\u001b[39m\u001b[38;5;124m'\u001b[39m, \u001b[38;5;124m'\u001b[39m\u001b[38;5;124mDAY\u001b[39m\u001b[38;5;124m'\u001b[39m, \u001b[38;5;124m'\u001b[39m\u001b[38;5;124mMONTH\u001b[39m\u001b[38;5;124m'\u001b[39m, \u001b[38;5;124m'\u001b[39m\u001b[38;5;124mYEAR\u001b[39m\u001b[38;5;124m'\u001b[39m]\n\u001b[1;32m----> 5\u001b[0m \u001b[43mpetroleo\u001b[49m\u001b[38;5;241;43m.\u001b[39;49m\u001b[43mdrop\u001b[49m\u001b[43m(\u001b[49m\u001b[43mcolumns\u001b[49m\u001b[43m \u001b[49m\u001b[38;5;241;43m=\u001b[39;49m\u001b[43m \u001b[49m\u001b[43mcolunas\u001b[49m\u001b[43m,\u001b[49m\u001b[43m \u001b[49m\u001b[43minplace\u001b[49m\u001b[43m \u001b[49m\u001b[38;5;241;43m=\u001b[39;49m\u001b[43m \u001b[49m\u001b[38;5;28;43;01mTrue\u001b[39;49;00m\u001b[43m)\u001b[49m\n\u001b[0;32m      6\u001b[0m IBOV\u001b[38;5;241m.\u001b[39mdrop(columns \u001b[38;5;241m=\u001b[39m colunas, inplace \u001b[38;5;241m=\u001b[39m \u001b[38;5;28;01mTrue\u001b[39;00m)\n\u001b[0;32m      7\u001b[0m IR\u001b[38;5;241m.\u001b[39mdrop(columns \u001b[38;5;241m=\u001b[39m colunas, inplace \u001b[38;5;241m=\u001b[39m \u001b[38;5;28;01mTrue\u001b[39;00m)\n",
      "File \u001b[1;32m~\\AppData\\Local\\Programs\\Python\\Python312\\Lib\\site-packages\\pandas\\core\\frame.py:5581\u001b[0m, in \u001b[0;36mDataFrame.drop\u001b[1;34m(self, labels, axis, index, columns, level, inplace, errors)\u001b[0m\n\u001b[0;32m   5433\u001b[0m \u001b[38;5;28;01mdef\u001b[39;00m \u001b[38;5;21mdrop\u001b[39m(\n\u001b[0;32m   5434\u001b[0m     \u001b[38;5;28mself\u001b[39m,\n\u001b[0;32m   5435\u001b[0m     labels: IndexLabel \u001b[38;5;241m|\u001b[39m \u001b[38;5;28;01mNone\u001b[39;00m \u001b[38;5;241m=\u001b[39m \u001b[38;5;28;01mNone\u001b[39;00m,\n\u001b[1;32m   (...)\u001b[0m\n\u001b[0;32m   5442\u001b[0m     errors: IgnoreRaise \u001b[38;5;241m=\u001b[39m \u001b[38;5;124m\"\u001b[39m\u001b[38;5;124mraise\u001b[39m\u001b[38;5;124m\"\u001b[39m,\n\u001b[0;32m   5443\u001b[0m ) \u001b[38;5;241m-\u001b[39m\u001b[38;5;241m>\u001b[39m DataFrame \u001b[38;5;241m|\u001b[39m \u001b[38;5;28;01mNone\u001b[39;00m:\n\u001b[0;32m   5444\u001b[0m \u001b[38;5;250m    \u001b[39m\u001b[38;5;124;03m\"\"\"\u001b[39;00m\n\u001b[0;32m   5445\u001b[0m \u001b[38;5;124;03m    Drop specified labels from rows or columns.\u001b[39;00m\n\u001b[0;32m   5446\u001b[0m \n\u001b[1;32m   (...)\u001b[0m\n\u001b[0;32m   5579\u001b[0m \u001b[38;5;124;03m            weight  1.0     0.8\u001b[39;00m\n\u001b[0;32m   5580\u001b[0m \u001b[38;5;124;03m    \"\"\"\u001b[39;00m\n\u001b[1;32m-> 5581\u001b[0m     \u001b[38;5;28;01mreturn\u001b[39;00m \u001b[38;5;28;43msuper\u001b[39;49m\u001b[43m(\u001b[49m\u001b[43m)\u001b[49m\u001b[38;5;241;43m.\u001b[39;49m\u001b[43mdrop\u001b[49m\u001b[43m(\u001b[49m\n\u001b[0;32m   5582\u001b[0m \u001b[43m        \u001b[49m\u001b[43mlabels\u001b[49m\u001b[38;5;241;43m=\u001b[39;49m\u001b[43mlabels\u001b[49m\u001b[43m,\u001b[49m\n\u001b[0;32m   5583\u001b[0m \u001b[43m        \u001b[49m\u001b[43maxis\u001b[49m\u001b[38;5;241;43m=\u001b[39;49m\u001b[43maxis\u001b[49m\u001b[43m,\u001b[49m\n\u001b[0;32m   5584\u001b[0m \u001b[43m        \u001b[49m\u001b[43mindex\u001b[49m\u001b[38;5;241;43m=\u001b[39;49m\u001b[43mindex\u001b[49m\u001b[43m,\u001b[49m\n\u001b[0;32m   5585\u001b[0m \u001b[43m        \u001b[49m\u001b[43mcolumns\u001b[49m\u001b[38;5;241;43m=\u001b[39;49m\u001b[43mcolumns\u001b[49m\u001b[43m,\u001b[49m\n\u001b[0;32m   5586\u001b[0m \u001b[43m        \u001b[49m\u001b[43mlevel\u001b[49m\u001b[38;5;241;43m=\u001b[39;49m\u001b[43mlevel\u001b[49m\u001b[43m,\u001b[49m\n\u001b[0;32m   5587\u001b[0m \u001b[43m        \u001b[49m\u001b[43minplace\u001b[49m\u001b[38;5;241;43m=\u001b[39;49m\u001b[43minplace\u001b[49m\u001b[43m,\u001b[49m\n\u001b[0;32m   5588\u001b[0m \u001b[43m        \u001b[49m\u001b[43merrors\u001b[49m\u001b[38;5;241;43m=\u001b[39;49m\u001b[43merrors\u001b[49m\u001b[43m,\u001b[49m\n\u001b[0;32m   5589\u001b[0m \u001b[43m    \u001b[49m\u001b[43m)\u001b[49m\n",
      "File \u001b[1;32m~\\AppData\\Local\\Programs\\Python\\Python312\\Lib\\site-packages\\pandas\\core\\generic.py:4788\u001b[0m, in \u001b[0;36mNDFrame.drop\u001b[1;34m(self, labels, axis, index, columns, level, inplace, errors)\u001b[0m\n\u001b[0;32m   4786\u001b[0m \u001b[38;5;28;01mfor\u001b[39;00m axis, labels \u001b[38;5;129;01min\u001b[39;00m axes\u001b[38;5;241m.\u001b[39mitems():\n\u001b[0;32m   4787\u001b[0m     \u001b[38;5;28;01mif\u001b[39;00m labels \u001b[38;5;129;01mis\u001b[39;00m \u001b[38;5;129;01mnot\u001b[39;00m \u001b[38;5;28;01mNone\u001b[39;00m:\n\u001b[1;32m-> 4788\u001b[0m         obj \u001b[38;5;241m=\u001b[39m \u001b[43mobj\u001b[49m\u001b[38;5;241;43m.\u001b[39;49m\u001b[43m_drop_axis\u001b[49m\u001b[43m(\u001b[49m\u001b[43mlabels\u001b[49m\u001b[43m,\u001b[49m\u001b[43m \u001b[49m\u001b[43maxis\u001b[49m\u001b[43m,\u001b[49m\u001b[43m \u001b[49m\u001b[43mlevel\u001b[49m\u001b[38;5;241;43m=\u001b[39;49m\u001b[43mlevel\u001b[49m\u001b[43m,\u001b[49m\u001b[43m \u001b[49m\u001b[43merrors\u001b[49m\u001b[38;5;241;43m=\u001b[39;49m\u001b[43merrors\u001b[49m\u001b[43m)\u001b[49m\n\u001b[0;32m   4790\u001b[0m \u001b[38;5;28;01mif\u001b[39;00m inplace:\n\u001b[0;32m   4791\u001b[0m     \u001b[38;5;28mself\u001b[39m\u001b[38;5;241m.\u001b[39m_update_inplace(obj)\n",
      "File \u001b[1;32m~\\AppData\\Local\\Programs\\Python\\Python312\\Lib\\site-packages\\pandas\\core\\generic.py:4830\u001b[0m, in \u001b[0;36mNDFrame._drop_axis\u001b[1;34m(self, labels, axis, level, errors, only_slice)\u001b[0m\n\u001b[0;32m   4828\u001b[0m         new_axis \u001b[38;5;241m=\u001b[39m axis\u001b[38;5;241m.\u001b[39mdrop(labels, level\u001b[38;5;241m=\u001b[39mlevel, errors\u001b[38;5;241m=\u001b[39merrors)\n\u001b[0;32m   4829\u001b[0m     \u001b[38;5;28;01melse\u001b[39;00m:\n\u001b[1;32m-> 4830\u001b[0m         new_axis \u001b[38;5;241m=\u001b[39m \u001b[43maxis\u001b[49m\u001b[38;5;241;43m.\u001b[39;49m\u001b[43mdrop\u001b[49m\u001b[43m(\u001b[49m\u001b[43mlabels\u001b[49m\u001b[43m,\u001b[49m\u001b[43m \u001b[49m\u001b[43merrors\u001b[49m\u001b[38;5;241;43m=\u001b[39;49m\u001b[43merrors\u001b[49m\u001b[43m)\u001b[49m\n\u001b[0;32m   4831\u001b[0m     indexer \u001b[38;5;241m=\u001b[39m axis\u001b[38;5;241m.\u001b[39mget_indexer(new_axis)\n\u001b[0;32m   4833\u001b[0m \u001b[38;5;66;03m# Case for non-unique axis\u001b[39;00m\n\u001b[0;32m   4834\u001b[0m \u001b[38;5;28;01melse\u001b[39;00m:\n",
      "File \u001b[1;32m~\\AppData\\Local\\Programs\\Python\\Python312\\Lib\\site-packages\\pandas\\core\\indexes\\base.py:7070\u001b[0m, in \u001b[0;36mIndex.drop\u001b[1;34m(self, labels, errors)\u001b[0m\n\u001b[0;32m   7068\u001b[0m \u001b[38;5;28;01mif\u001b[39;00m mask\u001b[38;5;241m.\u001b[39many():\n\u001b[0;32m   7069\u001b[0m     \u001b[38;5;28;01mif\u001b[39;00m errors \u001b[38;5;241m!=\u001b[39m \u001b[38;5;124m\"\u001b[39m\u001b[38;5;124mignore\u001b[39m\u001b[38;5;124m\"\u001b[39m:\n\u001b[1;32m-> 7070\u001b[0m         \u001b[38;5;28;01mraise\u001b[39;00m \u001b[38;5;167;01mKeyError\u001b[39;00m(\u001b[38;5;124mf\u001b[39m\u001b[38;5;124m\"\u001b[39m\u001b[38;5;132;01m{\u001b[39;00mlabels[mask]\u001b[38;5;241m.\u001b[39mtolist()\u001b[38;5;132;01m}\u001b[39;00m\u001b[38;5;124m not found in axis\u001b[39m\u001b[38;5;124m\"\u001b[39m)\n\u001b[0;32m   7071\u001b[0m     indexer \u001b[38;5;241m=\u001b[39m indexer[\u001b[38;5;241m~\u001b[39mmask]\n\u001b[0;32m   7072\u001b[0m \u001b[38;5;28;01mreturn\u001b[39;00m \u001b[38;5;28mself\u001b[39m\u001b[38;5;241m.\u001b[39mdelete(indexer)\n",
      "\u001b[1;31mKeyError\u001b[0m: \"['CODE', 'RAW DATE', 'DAY', 'MONTH', 'YEAR'] not found in axis\""
     ]
    }
   ],
   "source": [
    "list_sgs = ['ipca','cambio', 'pib', 'ipgm','igpdi','M1', 'empregos', 'bp', 'divida']\n",
    "list2 = ['petroleo', 'IBOV', 'IR']\n",
    "colunas = ['CODE', 'RAW DATE', 'DAY', 'MONTH', 'YEAR']\n",
    "\n",
    "petroleo.drop(columns = colunas, inplace = True)\n",
    "IBOV.drop(columns = colunas, inplace = True)\n",
    "IR.drop(columns = colunas, inplace = True)"
   ]
  },
  {
   "cell_type": "code",
   "execution_count": 24,
   "id": "f261d6e2-1a7b-4fa9-a892-9af6a5932b33",
   "metadata": {},
   "outputs": [],
   "source": [
    "dict_rename = {'date':'Date'}\n",
    "ipca_esperado.rename(columns=dict_rename, inplace=True)\n",
    "ipca_esperado.set_index('Date', inplace = True)"
   ]
  },
  {
   "cell_type": "code",
   "execution_count": 26,
   "id": "4d59b28d-914a-4097-8ee9-dba28f85648f",
   "metadata": {},
   "outputs": [],
   "source": [
    "IBOV = IBOV.rename_axis('Date')\n",
    "IR = IR.rename_axis('Date')\n",
    "petroleo = petroleo.rename_axis('Date')"
   ]
  },
  {
   "cell_type": "code",
   "execution_count": 29,
   "id": "5f08d1ee-add0-4c30-9ffa-19f3d4e47738",
   "metadata": {},
   "outputs": [
    {
     "data": {
      "text/html": [
       "<div>\n",
       "<style scoped>\n",
       "    .dataframe tbody tr th:only-of-type {\n",
       "        vertical-align: middle;\n",
       "    }\n",
       "\n",
       "    .dataframe tbody tr th {\n",
       "        vertical-align: top;\n",
       "    }\n",
       "\n",
       "    .dataframe thead th {\n",
       "        text-align: right;\n",
       "    }\n",
       "</style>\n",
       "<table border=\"1\" class=\"dataframe\">\n",
       "  <thead>\n",
       "    <tr style=\"text-align: right;\">\n",
       "      <th></th>\n",
       "      <th>Câmbio</th>\n",
       "    </tr>\n",
       "    <tr>\n",
       "      <th>Date</th>\n",
       "      <th></th>\n",
       "    </tr>\n",
       "  </thead>\n",
       "  <tbody>\n",
       "    <tr>\n",
       "      <th>1984-11-28</th>\n",
       "      <td>2828.0000</td>\n",
       "    </tr>\n",
       "    <tr>\n",
       "      <th>1984-11-29</th>\n",
       "      <td>2828.0000</td>\n",
       "    </tr>\n",
       "    <tr>\n",
       "      <th>1984-11-30</th>\n",
       "      <td>2881.0000</td>\n",
       "    </tr>\n",
       "    <tr>\n",
       "      <th>1984-12-03</th>\n",
       "      <td>2881.0000</td>\n",
       "    </tr>\n",
       "    <tr>\n",
       "      <th>1984-12-04</th>\n",
       "      <td>2881.0000</td>\n",
       "    </tr>\n",
       "    <tr>\n",
       "      <th>...</th>\n",
       "      <td>...</td>\n",
       "    </tr>\n",
       "    <tr>\n",
       "      <th>2024-07-24</th>\n",
       "      <td>5.6346</td>\n",
       "    </tr>\n",
       "    <tr>\n",
       "      <th>2024-07-25</th>\n",
       "      <td>5.6402</td>\n",
       "    </tr>\n",
       "    <tr>\n",
       "      <th>2024-07-26</th>\n",
       "      <td>5.6465</td>\n",
       "    </tr>\n",
       "    <tr>\n",
       "      <th>2024-07-29</th>\n",
       "      <td>5.6479</td>\n",
       "    </tr>\n",
       "    <tr>\n",
       "      <th>2024-07-30</th>\n",
       "      <td>5.6532</td>\n",
       "    </tr>\n",
       "  </tbody>\n",
       "</table>\n",
       "<p>9939 rows × 1 columns</p>\n",
       "</div>"
      ],
      "text/plain": [
       "               Câmbio\n",
       "Date                 \n",
       "1984-11-28  2828.0000\n",
       "1984-11-29  2828.0000\n",
       "1984-11-30  2881.0000\n",
       "1984-12-03  2881.0000\n",
       "1984-12-04  2881.0000\n",
       "...               ...\n",
       "2024-07-24     5.6346\n",
       "2024-07-25     5.6402\n",
       "2024-07-26     5.6465\n",
       "2024-07-29     5.6479\n",
       "2024-07-30     5.6532\n",
       "\n",
       "[9939 rows x 1 columns]"
      ]
     },
     "execution_count": 29,
     "metadata": {},
     "output_type": "execute_result"
    }
   ],
   "source": [
    "cambio"
   ]
  },
  {
   "cell_type": "code",
   "execution_count": 30,
   "id": "7197d4d5-7727-4543-acc8-128c05c921d5",
   "metadata": {},
   "outputs": [],
   "source": [
    "def group_by_year_month(df):\n",
    "    df['Year'] = df.index.year\n",
    "    df['Month'] = df.index.month\n",
    "    df_grouped = df.groupby(['Year', 'Month']).mean()\n",
    "    return df_grouped"
   ]
  },
  {
   "cell_type": "code",
   "execution_count": 34,
   "id": "748d3548-2ae0-45b3-8f70-886af1924ab1",
   "metadata": {},
   "outputs": [
    {
     "ename": "TypeError",
     "evalue": "list indices must be integers or slices, not str",
     "output_type": "error",
     "traceback": [
      "\u001b[1;31m---------------------------------------------------------------------------\u001b[0m",
      "\u001b[1;31mTypeError\u001b[0m                                 Traceback (most recent call last)",
      "Cell \u001b[1;32mIn[34], line 1\u001b[0m\n\u001b[1;32m----> 1\u001b[0m grouped_dfs \u001b[38;5;241m=\u001b[39m [group_by_year_month(\u001b[43mlist_sgs\u001b[49m\u001b[43m[\u001b[49m\u001b[43mkey\u001b[49m\u001b[43m]\u001b[49m) \u001b[38;5;28;01mfor\u001b[39;00m key \u001b[38;5;129;01min\u001b[39;00m list_sgs]\n\u001b[0;32m      2\u001b[0m grouped_dfs\u001b[38;5;241m.\u001b[39mappend(group_by_year_month(ipca_esperado))\n\u001b[0;32m      3\u001b[0m grouped_dfs\u001b[38;5;241m.\u001b[39mextend([group_by_year_month(list2[key]) \u001b[38;5;28;01mfor\u001b[39;00m key \u001b[38;5;129;01min\u001b[39;00m list2])\n",
      "\u001b[1;31mTypeError\u001b[0m: list indices must be integers or slices, not str"
     ]
    }
   ],
   "source": [
    "grouped_dfs = [group_by_year_month(list_sgs[key]) for key in list_sgs]\n",
    "grouped_dfs.append(group_by_year_month(ipca_esperado))\n",
    "grouped_dfs.extend([group_by_year_month(list2[key]) for key in list2])"
   ]
  }
 ],
 "metadata": {
  "kernelspec": {
   "display_name": "Python 3 (ipykernel)",
   "language": "python",
   "name": "python3"
  },
  "language_info": {
   "codemirror_mode": {
    "name": "ipython",
    "version": 3
   },
   "file_extension": ".py",
   "mimetype": "text/x-python",
   "name": "python",
   "nbconvert_exporter": "python",
   "pygments_lexer": "ipython3",
   "version": "3.12.4"
  }
 },
 "nbformat": 4,
 "nbformat_minor": 5
}
